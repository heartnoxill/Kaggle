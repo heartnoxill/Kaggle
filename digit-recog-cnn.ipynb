{
 "cells": [
  {
   "cell_type": "markdown",
   "id": "8a31f6d9",
   "metadata": {
    "papermill": {
     "duration": 0.02706,
     "end_time": "2021-08-02T13:37:10.325938",
     "exception": false,
     "start_time": "2021-08-02T13:37:10.298878",
     "status": "completed"
    },
    "tags": []
   },
   "source": [
    "# Importing Modules"
   ]
  },
  {
   "cell_type": "code",
   "execution_count": 1,
   "id": "d9f961a8",
   "metadata": {
    "_cell_guid": "b1076dfc-b9ad-4769-8c92-a6c4dae69d19",
    "_uuid": "8f2839f25d086af736a60e9eeb907d3b93b6e0e5",
    "execution": {
     "iopub.execute_input": "2021-08-02T13:37:10.396744Z",
     "iopub.status.busy": "2021-08-02T13:37:10.395923Z",
     "iopub.status.idle": "2021-08-02T13:37:17.892101Z",
     "shell.execute_reply": "2021-08-02T13:37:17.892751Z",
     "shell.execute_reply.started": "2021-08-02T13:09:13.287997Z"
    },
    "papermill": {
     "duration": 7.5404,
     "end_time": "2021-08-02T13:37:17.893083",
     "exception": false,
     "start_time": "2021-08-02T13:37:10.352683",
     "status": "completed"
    },
    "tags": []
   },
   "outputs": [],
   "source": [
    "import numpy as np\n",
    "import pandas as pd\n",
    "import matplotlib.pyplot as plt\n",
    "import seaborn as sns\n",
    "%matplotlib inline\n",
    "\n",
    "np.random.seed(5)\n",
    "\n",
    "from sklearn.model_selection import train_test_split\n",
    "from sklearn.metrics import confusion_matrix\n",
    "import itertools\n",
    "\n",
    "from keras.utils.np_utils import to_categorical # one-hot-encoding\n",
    "from keras.models import Sequential # setting sequence to Keras layers\n",
    "from keras.layers import Dense, Dropout, Flatten, Conv2D, MaxPool2D # Keras layer types\n",
    "from keras.optimizers import RMSprop # optimize\n",
    "from keras.preprocessing.image import ImageDataGenerator # Generate batches of tensor image data with real-time data augmentation.\n",
    "from keras.callbacks import ReduceLROnPlateau # Reduce learning rate when a metric has stopped improving.\n",
    "\n",
    "sns.set(style='white', context='notebook', palette='deep')"
   ]
  },
  {
   "cell_type": "markdown",
   "id": "43bd2633",
   "metadata": {
    "papermill": {
     "duration": 0.025039,
     "end_time": "2021-08-02T13:37:17.944260",
     "exception": false,
     "start_time": "2021-08-02T13:37:17.919221",
     "status": "completed"
    },
    "tags": []
   },
   "source": [
    "# Data Preparation\n",
    "## Load Data"
   ]
  },
  {
   "cell_type": "code",
   "execution_count": 2,
   "id": "ed4a4a6a",
   "metadata": {
    "execution": {
     "iopub.execute_input": "2021-08-02T13:37:17.999140Z",
     "iopub.status.busy": "2021-08-02T13:37:17.998436Z",
     "iopub.status.idle": "2021-08-02T13:37:24.185474Z",
     "shell.execute_reply": "2021-08-02T13:37:24.184723Z",
     "shell.execute_reply.started": "2021-08-02T13:09:13.304475Z"
    },
    "papermill": {
     "duration": 6.216092,
     "end_time": "2021-08-02T13:37:24.185631",
     "exception": false,
     "start_time": "2021-08-02T13:37:17.969539",
     "status": "completed"
    },
    "tags": []
   },
   "outputs": [],
   "source": [
    "train = pd.read_csv(\"../input/digit-recognizer/train.csv\")\n",
    "test = pd.read_csv(\"../input/digit-recognizer/test.csv\")"
   ]
  },
  {
   "cell_type": "code",
   "execution_count": 3,
   "id": "8622c0ee",
   "metadata": {
    "execution": {
     "iopub.execute_input": "2021-08-02T13:37:24.243973Z",
     "iopub.status.busy": "2021-08-02T13:37:24.243078Z",
     "iopub.status.idle": "2021-08-02T13:37:24.268402Z",
     "shell.execute_reply": "2021-08-02T13:37:24.268935Z",
     "shell.execute_reply.started": "2021-08-02T13:09:18.012545Z"
    },
    "papermill": {
     "duration": 0.058025,
     "end_time": "2021-08-02T13:37:24.269106",
     "exception": false,
     "start_time": "2021-08-02T13:37:24.211081",
     "status": "completed"
    },
    "tags": []
   },
   "outputs": [
    {
     "name": "stdout",
     "output_type": "stream",
     "text": [
      "   label  pixel0  pixel1  pixel2  pixel3  pixel4  pixel5  pixel6  pixel7  \\\n",
      "0      1       0       0       0       0       0       0       0       0   \n",
      "1      0       0       0       0       0       0       0       0       0   \n",
      "2      1       0       0       0       0       0       0       0       0   \n",
      "3      4       0       0       0       0       0       0       0       0   \n",
      "4      0       0       0       0       0       0       0       0       0   \n",
      "\n",
      "   pixel8  ...  pixel774  pixel775  pixel776  pixel777  pixel778  pixel779  \\\n",
      "0       0  ...         0         0         0         0         0         0   \n",
      "1       0  ...         0         0         0         0         0         0   \n",
      "2       0  ...         0         0         0         0         0         0   \n",
      "3       0  ...         0         0         0         0         0         0   \n",
      "4       0  ...         0         0         0         0         0         0   \n",
      "\n",
      "   pixel780  pixel781  pixel782  pixel783  \n",
      "0         0         0         0         0  \n",
      "1         0         0         0         0  \n",
      "2         0         0         0         0  \n",
      "3         0         0         0         0  \n",
      "4         0         0         0         0  \n",
      "\n",
      "[5 rows x 785 columns]\n",
      "   pixel0  pixel1  pixel2  pixel3  pixel4  pixel5  pixel6  pixel7  pixel8  \\\n",
      "0       0       0       0       0       0       0       0       0       0   \n",
      "1       0       0       0       0       0       0       0       0       0   \n",
      "2       0       0       0       0       0       0       0       0       0   \n",
      "3       0       0       0       0       0       0       0       0       0   \n",
      "4       0       0       0       0       0       0       0       0       0   \n",
      "\n",
      "   pixel9  ...  pixel774  pixel775  pixel776  pixel777  pixel778  pixel779  \\\n",
      "0       0  ...         0         0         0         0         0         0   \n",
      "1       0  ...         0         0         0         0         0         0   \n",
      "2       0  ...         0         0         0         0         0         0   \n",
      "3       0  ...         0         0         0         0         0         0   \n",
      "4       0  ...         0         0         0         0         0         0   \n",
      "\n",
      "   pixel780  pixel781  pixel782  pixel783  \n",
      "0         0         0         0         0  \n",
      "1         0         0         0         0  \n",
      "2         0         0         0         0  \n",
      "3         0         0         0         0  \n",
      "4         0         0         0         0  \n",
      "\n",
      "[5 rows x 784 columns]\n"
     ]
    }
   ],
   "source": [
    "print(train.head())\n",
    "print(test.head())"
   ]
  },
  {
   "cell_type": "code",
   "execution_count": 4,
   "id": "df106298",
   "metadata": {
    "execution": {
     "iopub.execute_input": "2021-08-02T13:37:24.330470Z",
     "iopub.status.busy": "2021-08-02T13:37:24.329451Z",
     "iopub.status.idle": "2021-08-02T13:37:24.717654Z",
     "shell.execute_reply": "2021-08-02T13:37:24.718218Z",
     "shell.execute_reply.started": "2021-08-02T13:09:18.035114Z"
    },
    "papermill": {
     "duration": 0.421902,
     "end_time": "2021-08-02T13:37:24.718402",
     "exception": false,
     "start_time": "2021-08-02T13:37:24.296500",
     "status": "completed"
    },
    "tags": []
   },
   "outputs": [
    {
     "name": "stderr",
     "output_type": "stream",
     "text": [
      "/opt/conda/lib/python3.7/site-packages/seaborn/_decorators.py:43: FutureWarning: Pass the following variable as a keyword arg: x. From version 0.12, the only valid positional argument will be `data`, and passing other arguments without an explicit keyword will result in an error or misinterpretation.\n",
      "  FutureWarning\n"
     ]
    },
    {
     "data": {
      "text/plain": [
       "1    4684\n",
       "7    4401\n",
       "3    4351\n",
       "9    4188\n",
       "2    4177\n",
       "6    4137\n",
       "0    4132\n",
       "4    4072\n",
       "8    4063\n",
       "5    3795\n",
       "Name: label, dtype: int64"
      ]
     },
     "execution_count": 4,
     "metadata": {},
     "output_type": "execute_result"
    },
    {
     "data": {
      "image/png": "[encoded data removed]",
      "text/plain": [
       "<Figure size 432x288 with 1 Axes>"
      ]
     },
     "metadata": {},
     "output_type": "display_data"
    }
   ],
   "source": [
    "# Getting X_train and y_train\n",
    "y_train = train[\"label\"]\n",
    "\n",
    "# Drop label and assign to X_train\n",
    "X_train = train.drop(labels = [\"label\"], axis=1)\n",
    "\n",
    "# Delete \"train\" variable (we don't want it anymore)\n",
    "del train\n",
    "\n",
    "# Count and visualize value of y_train\n",
    "cp = sns.countplot(y_train)\n",
    "y_train.value_counts()"
   ]
  },
  {
   "cell_type": "markdown",
   "id": "d7c384fe",
   "metadata": {
    "papermill": {
     "duration": 0.028034,
     "end_time": "2021-08-02T13:37:24.774104",
     "exception": false,
     "start_time": "2021-08-02T13:37:24.746070",
     "status": "completed"
    },
    "tags": []
   },
   "source": [
    "## Check for null and missing values"
   ]
  },
  {
   "cell_type": "code",
   "execution_count": 5,
   "id": "198c3393",
   "metadata": {
    "execution": {
     "iopub.execute_input": "2021-08-02T13:37:24.833745Z",
     "iopub.status.busy": "2021-08-02T13:37:24.833025Z",
     "iopub.status.idle": "2021-08-02T13:37:24.868365Z",
     "shell.execute_reply": "2021-08-02T13:37:24.868986Z",
     "shell.execute_reply.started": "2021-08-02T13:09:18.377896Z"
    },
    "papermill": {
     "duration": 0.067447,
     "end_time": "2021-08-02T13:37:24.869172",
     "exception": false,
     "start_time": "2021-08-02T13:37:24.801725",
     "status": "completed"
    },
    "tags": []
   },
   "outputs": [
    {
     "data": {
      "text/plain": [
       "count       784\n",
       "unique        1\n",
       "top       False\n",
       "freq        784\n",
       "dtype: object"
      ]
     },
     "execution_count": 5,
     "metadata": {},
     "output_type": "execute_result"
    }
   ],
   "source": [
    "# Check in X_train\n",
    "X_train.isnull().any().describe()"
   ]
  },
  {
   "cell_type": "code",
   "execution_count": 6,
   "id": "39e00288",
   "metadata": {
    "execution": {
     "iopub.execute_input": "2021-08-02T13:37:24.928665Z",
     "iopub.status.busy": "2021-08-02T13:37:24.927615Z",
     "iopub.status.idle": "2021-08-02T13:37:24.946712Z",
     "shell.execute_reply": "2021-08-02T13:37:24.947270Z",
     "shell.execute_reply.started": "2021-08-02T13:09:18.401627Z"
    },
    "papermill": {
     "duration": 0.050314,
     "end_time": "2021-08-02T13:37:24.947447",
     "exception": false,
     "start_time": "2021-08-02T13:37:24.897133",
     "status": "completed"
    },
    "tags": []
   },
   "outputs": [
    {
     "data": {
      "text/plain": [
       "count       784\n",
       "unique        1\n",
       "top       False\n",
       "freq        784\n",
       "dtype: object"
      ]
     },
     "execution_count": 6,
     "metadata": {},
     "output_type": "execute_result"
    }
   ],
   "source": [
    "test.isnull().any().describe()\n",
    "\n",
    "# no missing values on both train and test data"
   ]
  },
  {
   "cell_type": "markdown",
   "id": "cc3f136b",
   "metadata": {
    "papermill": {
     "duration": 0.028736,
     "end_time": "2021-08-02T13:37:25.004261",
     "exception": false,
     "start_time": "2021-08-02T13:37:24.975525",
     "status": "completed"
    },
    "tags": []
   },
   "source": [
    "## Normalization"
   ]
  },
  {
   "cell_type": "code",
   "execution_count": 7,
   "id": "54fc8654",
   "metadata": {
    "execution": {
     "iopub.execute_input": "2021-08-02T13:37:25.064752Z",
     "iopub.status.busy": "2021-08-02T13:37:25.063748Z",
     "iopub.status.idle": "2021-08-02T13:37:25.174583Z",
     "shell.execute_reply": "2021-08-02T13:37:25.173920Z",
     "shell.execute_reply.started": "2021-08-02T13:09:18.424120Z"
    },
    "papermill": {
     "duration": 0.142371,
     "end_time": "2021-08-02T13:37:25.174720",
     "exception": false,
     "start_time": "2021-08-02T13:37:25.032349",
     "status": "completed"
    },
    "tags": []
   },
   "outputs": [],
   "source": [
    "# Perform grayscale normalization to reduce the effect of illumination's differences --> range 0-1\n",
    "X_train = X_train / 255.0\n",
    "test = test / 255.0"
   ]
  },
  {
   "cell_type": "markdown",
   "id": "6d44e9aa",
   "metadata": {
    "papermill": {
     "duration": 0.027562,
     "end_time": "2021-08-02T13:37:25.230179",
     "exception": false,
     "start_time": "2021-08-02T13:37:25.202617",
     "status": "completed"
    },
    "tags": []
   },
   "source": [
    "## Reshape"
   ]
  },
  {
   "cell_type": "code",
   "execution_count": 8,
   "id": "4d3f4895",
   "metadata": {
    "execution": {
     "iopub.execute_input": "2021-08-02T13:37:25.289736Z",
     "iopub.status.busy": "2021-08-02T13:37:25.288790Z",
     "iopub.status.idle": "2021-08-02T13:37:25.293493Z",
     "shell.execute_reply": "2021-08-02T13:37:25.294024Z",
     "shell.execute_reply.started": "2021-08-02T13:09:18.531653Z"
    },
    "papermill": {
     "duration": 0.036019,
     "end_time": "2021-08-02T13:37:25.294205",
     "exception": false,
     "start_time": "2021-08-02T13:37:25.258186",
     "status": "completed"
    },
    "tags": []
   },
   "outputs": [],
   "source": [
    "# Reshape 1D Dataframe (764) to 28x28x1 3D matrices\n",
    "# (height = 28px, width = 28px , canal = 1)\n",
    "X_train = X_train.values.reshape(-1,28,28,1)\n",
    "test = test.values.reshape(-1,28,28,1)"
   ]
  },
  {
   "cell_type": "markdown",
   "id": "f62d9325",
   "metadata": {
    "papermill": {
     "duration": 0.027515,
     "end_time": "2021-08-02T13:37:25.350504",
     "exception": false,
     "start_time": "2021-08-02T13:37:25.322989",
     "status": "completed"
    },
    "tags": []
   },
   "source": [
    "## Label Encoding"
   ]
  },
  {
   "cell_type": "code",
   "execution_count": 9,
   "id": "29068e74",
   "metadata": {
    "execution": {
     "iopub.execute_input": "2021-08-02T13:37:25.411958Z",
     "iopub.status.busy": "2021-08-02T13:37:25.410744Z",
     "iopub.status.idle": "2021-08-02T13:37:25.418150Z",
     "shell.execute_reply": "2021-08-02T13:37:25.417589Z",
     "shell.execute_reply.started": "2021-08-02T13:09:18.539149Z"
    },
    "papermill": {
     "duration": 0.039693,
     "end_time": "2021-08-02T13:37:25.418313",
     "exception": false,
     "start_time": "2021-08-02T13:37:25.378620",
     "status": "completed"
    },
    "tags": []
   },
   "outputs": [],
   "source": [
    "# Encode numbers to one-hot encoding\n",
    "y_train = to_categorical(y_train, num_classes=10) # 0-9 = 10 classes"
   ]
  },
  {
   "cell_type": "markdown",
   "id": "765bca87",
   "metadata": {
    "papermill": {
     "duration": 0.028567,
     "end_time": "2021-08-02T13:37:25.475987",
     "exception": false,
     "start_time": "2021-08-02T13:37:25.447420",
     "status": "completed"
    },
    "tags": []
   },
   "source": [
    "## Split training and validation set"
   ]
  },
  {
   "cell_type": "code",
   "execution_count": 10,
   "id": "bf40fb00",
   "metadata": {
    "execution": {
     "iopub.execute_input": "2021-08-02T13:37:25.538836Z",
     "iopub.status.busy": "2021-08-02T13:37:25.537489Z",
     "iopub.status.idle": "2021-08-02T13:37:25.954721Z",
     "shell.execute_reply": "2021-08-02T13:37:25.954116Z",
     "shell.execute_reply.started": "2021-08-02T13:09:18.555240Z"
    },
    "papermill": {
     "duration": 0.450816,
     "end_time": "2021-08-02T13:37:25.954889",
     "exception": false,
     "start_time": "2021-08-02T13:37:25.504073",
     "status": "completed"
    },
    "tags": []
   },
   "outputs": [],
   "source": [
    "# Set the random seed\n",
    "random_seed = 42\n",
    "\n",
    "# Split into train and val set for fitting\n",
    "X_train, X_val, y_train, y_val = train_test_split(X_train, y_train, test_size=0.1, random_state=random_seed)"
   ]
  },
  {
   "cell_type": "code",
   "execution_count": 11,
   "id": "d798e412",
   "metadata": {
    "execution": {
     "iopub.execute_input": "2021-08-02T13:37:26.027621Z",
     "iopub.status.busy": "2021-08-02T13:37:26.026094Z",
     "iopub.status.idle": "2021-08-02T13:37:26.218558Z",
     "shell.execute_reply": "2021-08-02T13:37:26.217979Z",
     "shell.execute_reply.started": "2021-08-02T13:09:18.980030Z"
    },
    "papermill": {
     "duration": 0.235485,
     "end_time": "2021-08-02T13:37:26.218712",
     "exception": false,
     "start_time": "2021-08-02T13:37:25.983227",
     "status": "completed"
    },
    "tags": []
   },
   "outputs": [
    {
     "data": {
      "image/png": "[encoded data removed]",
      "text/plain": [
       "<Figure size 432x288 with 1 Axes>"
      ]
     },
     "metadata": {},
     "output_type": "display_data"
    }
   ],
   "source": [
    "tp = plt.imshow(X_train[0][:,:,0])"
   ]
  },
  {
   "cell_type": "markdown",
   "id": "57902fc2",
   "metadata": {
    "papermill": {
     "duration": 0.028736,
     "end_time": "2021-08-02T13:37:26.276162",
     "exception": false,
     "start_time": "2021-08-02T13:37:26.247426",
     "status": "completed"
    },
    "tags": []
   },
   "source": [
    "# CNN\n",
    "## Define the model"
   ]
  },
  {
   "cell_type": "code",
   "execution_count": 12,
   "id": "172cd35f",
   "metadata": {
    "execution": {
     "iopub.execute_input": "2021-08-02T13:37:26.521514Z",
     "iopub.status.busy": "2021-08-02T13:37:26.517348Z",
     "iopub.status.idle": "2021-08-02T13:37:26.699118Z",
     "shell.execute_reply": "2021-08-02T13:37:26.698436Z",
     "shell.execute_reply.started": "2021-08-02T13:09:19.192462Z"
    },
    "papermill": {
     "duration": 0.393688,
     "end_time": "2021-08-02T13:37:26.699266",
     "exception": false,
     "start_time": "2021-08-02T13:37:26.305578",
     "status": "completed"
    },
    "tags": []
   },
   "outputs": [],
   "source": [
    "# In -> [[Conv2D->relu]*2 -> MaxPool2D -> Dropout]*2 -> Flatten -> Dense -> Dropout -> Out\n",
    "\n",
    "model = Sequential()\n",
    "\n",
    "model.add(Conv2D(filters=32, kernel_size=(5,5), padding='Same', activation='relu', input_shape=(28,28,1))) # In\n",
    "model.add(Conv2D(filters=32, kernel_size=(5,5), padding='Same', activation='relu'))\n",
    "model.add(MaxPool2D(pool_size=(2,2)))\n",
    "model.add(Dropout(0.25))\n",
    "\n",
    "model.add(Conv2D(filters=64, kernel_size=(3,3), padding='Same', activation='relu'))\n",
    "model.add(Conv2D(filters=64, kernel_size=(3,3), padding='Same', activation='relu'))\n",
    "model.add(MaxPool2D(pool_size=(2,2), strides=(2,2)))\n",
    "model.add(Dropout(0.25))\n",
    "\n",
    "model.add(Flatten())\n",
    "model.add(Dense(256, activation='relu'))\n",
    "model.add(Dropout(0.5))\n",
    "model.add(Dense(10, activation='softmax')) # Out"
   ]
  },
  {
   "cell_type": "markdown",
   "id": "640529a9",
   "metadata": {
    "papermill": {
     "duration": 0.028614,
     "end_time": "2021-08-02T13:37:26.758528",
     "exception": false,
     "start_time": "2021-08-02T13:37:26.729914",
     "status": "completed"
    },
    "tags": []
   },
   "source": [
    "## Set the optimizer "
   ]
  },
  {
   "cell_type": "code",
   "execution_count": 13,
   "id": "9525c793",
   "metadata": {
    "execution": {
     "iopub.execute_input": "2021-08-02T13:37:26.823876Z",
     "iopub.status.busy": "2021-08-02T13:37:26.822604Z",
     "iopub.status.idle": "2021-08-02T13:37:26.836589Z",
     "shell.execute_reply": "2021-08-02T13:37:26.837138Z",
     "shell.execute_reply.started": "2021-08-02T13:09:19.286447Z"
    },
    "papermill": {
     "duration": 0.050115,
     "end_time": "2021-08-02T13:37:26.837334",
     "exception": false,
     "start_time": "2021-08-02T13:37:26.787219",
     "status": "completed"
    },
    "tags": []
   },
   "outputs": [],
   "source": [
    "# Define the optimizer\n",
    "optimizer = RMSprop(lr=0.01, rho=0.9, epsilon=1e-08, decay=0.0)\n",
    "\n",
    "# Compile the model\n",
    "model.compile(optimizer=optimizer, loss='categorical_crossentropy', metrics=[\"accuracy\"])"
   ]
  },
  {
   "cell_type": "code",
   "execution_count": 14,
   "id": "9dc1171d",
   "metadata": {
    "execution": {
     "iopub.execute_input": "2021-08-02T13:37:26.901318Z",
     "iopub.status.busy": "2021-08-02T13:37:26.900220Z",
     "iopub.status.idle": "2021-08-02T13:37:26.904820Z",
     "shell.execute_reply": "2021-08-02T13:37:26.905434Z",
     "shell.execute_reply.started": "2021-08-02T13:09:19.302192Z"
    },
    "papermill": {
     "duration": 0.039559,
     "end_time": "2021-08-02T13:37:26.905610",
     "exception": false,
     "start_time": "2021-08-02T13:37:26.866051",
     "status": "completed"
    },
    "tags": []
   },
   "outputs": [],
   "source": [
    "# Set learning rate reduction\n",
    "learning_rate_reduction = ReduceLROnPlateau(monitor='val_acc',\n",
    "                                           patience=3,\n",
    "                                           verbose=1,\n",
    "                                           factor=0.5,\n",
    "                                           min_lr=0.00001)"
   ]
  },
  {
   "cell_type": "code",
   "execution_count": 15,
   "id": "90d71ce8",
   "metadata": {
    "execution": {
     "iopub.execute_input": "2021-08-02T13:37:26.969727Z",
     "iopub.status.busy": "2021-08-02T13:37:26.968909Z",
     "iopub.status.idle": "2021-08-02T13:37:26.972013Z",
     "shell.execute_reply": "2021-08-02T13:37:26.971376Z",
     "shell.execute_reply.started": "2021-08-02T13:09:19.318064Z"
    },
    "papermill": {
     "duration": 0.036667,
     "end_time": "2021-08-02T13:37:26.972165",
     "exception": false,
     "start_time": "2021-08-02T13:37:26.935498",
     "status": "completed"
    },
    "tags": []
   },
   "outputs": [],
   "source": [
    "epochs = 10  # Turn epochs to 30 to get 0.9967 accuracy\n",
    "batch_size = 86"
   ]
  },
  {
   "cell_type": "markdown",
   "id": "1a0e569e",
   "metadata": {
    "papermill": {
     "duration": 0.028677,
     "end_time": "2021-08-02T13:37:27.029643",
     "exception": false,
     "start_time": "2021-08-02T13:37:27.000966",
     "status": "completed"
    },
    "tags": []
   },
   "source": [
    "## Data Augmentation"
   ]
  },
  {
   "cell_type": "code",
   "execution_count": 16,
   "id": "37fb78c0",
   "metadata": {
    "execution": {
     "iopub.execute_input": "2021-08-02T13:37:27.093225Z",
     "iopub.status.busy": "2021-08-02T13:37:27.092428Z",
     "iopub.status.idle": "2021-08-02T13:37:27.095906Z",
     "shell.execute_reply": "2021-08-02T13:37:27.095142Z",
     "shell.execute_reply.started": "2021-08-02T13:09:19.331944Z"
    },
    "papermill": {
     "duration": 0.03711,
     "end_time": "2021-08-02T13:37:27.096077",
     "exception": false,
     "start_time": "2021-08-02T13:37:27.058967",
     "status": "completed"
    },
    "tags": []
   },
   "outputs": [],
   "source": [
    "# Without data augmentation I obtained an accuracy of 0.98114\n",
    "# history = model.fit(X_train, Y_train, batch_size = batch_size, epochs = epochs, \n",
    "# validation_data = (X_val, Y_val), verbose = 2)"
   ]
  },
  {
   "cell_type": "code",
   "execution_count": 17,
   "id": "07e3a1f5",
   "metadata": {
    "execution": {
     "iopub.execute_input": "2021-08-02T13:37:27.161880Z",
     "iopub.status.busy": "2021-08-02T13:37:27.161109Z",
     "iopub.status.idle": "2021-08-02T13:37:27.259121Z",
     "shell.execute_reply": "2021-08-02T13:37:27.258535Z",
     "shell.execute_reply.started": "2021-08-02T13:09:19.348722Z"
    },
    "papermill": {
     "duration": 0.133907,
     "end_time": "2021-08-02T13:37:27.259264",
     "exception": false,
     "start_time": "2021-08-02T13:37:27.125357",
     "status": "completed"
    },
    "tags": []
   },
   "outputs": [],
   "source": [
    "# With data augmentation to prevent overfitting\n",
    "datagen = ImageDataGenerator(\n",
    "        featurewise_center=False,  # set input mean to 0 over the dataset\n",
    "        samplewise_center=False,  # set each sample mean to 0\n",
    "        featurewise_std_normalization=False,  # divide inputs by std of the dataset\n",
    "        samplewise_std_normalization=False,  # divide each input by its std\n",
    "        zca_whitening=False,  # apply ZCA whitening\n",
    "        rotation_range=10,  # randomly rotate images in the range (degrees, 0 to 180)\n",
    "        zoom_range = 0.1, # Randomly zoom image \n",
    "        width_shift_range=0.1,  # randomly shift images horizontally (fraction of total width)\n",
    "        height_shift_range=0.1,  # randomly shift images vertically (fraction of total height)\n",
    "        horizontal_flip=False,  # randomly flip images\n",
    "        vertical_flip=False)  # randomly flip images\n",
    "\n",
    "# Randomly rotate some training images by 10 degrees\n",
    "# Randomly Zoom by 10% some training images\n",
    "# Randomly shift images horizontally by 10% of the width\n",
    "# Randomly shift images vertically by 10% of the height\n",
    "\n",
    "datagen.fit(X_train)"
   ]
  },
  {
   "cell_type": "code",
   "execution_count": null,
   "id": "8821e699",
   "metadata": {
    "execution": {
     "iopub.execute_input": "2021-08-02T13:09:19.461435Z",
     "iopub.status.busy": "2021-08-02T13:09:19.461155Z",
     "iopub.status.idle": "2021-08-02T13:33:25.191314Z",
     "shell.execute_reply": "2021-08-02T13:33:25.190406Z",
     "shell.execute_reply.started": "2021-08-02T13:09:19.461408Z"
    },
    "papermill": {
     "duration": null,
     "end_time": null,
     "exception": false,
     "start_time": "2021-08-02T13:37:27.288380",
     "status": "running"
    },
    "tags": []
   },
   "outputs": [],
   "source": [
    "# Fit the model\n",
    "history = model.fit_generator(datagen.flow(X_train,y_train, batch_size=batch_size),\n",
    "                              epochs = epochs, validation_data = (X_val,y_val),\n",
    "                              verbose = 2, steps_per_epoch=X_train.shape[0]//batch_size, callbacks=[learning_rate_reduction])"
   ]
  },
  {
   "cell_type": "markdown",
   "id": "8d05f61c",
   "metadata": {
    "papermill": {
     "duration": null,
     "end_time": null,
     "exception": null,
     "start_time": null,
     "status": "pending"
    },
    "tags": []
   },
   "source": [
    "# Evaluate the model\n",
    "## Training and validation curve"
   ]
  },
  {
   "cell_type": "code",
   "execution_count": null,
   "id": "9ba832e9",
   "metadata": {
    "execution": {
     "iopub.execute_input": "2021-08-02T13:33:25.193343Z",
     "iopub.status.busy": "2021-08-02T13:33:25.192868Z",
     "iopub.status.idle": "2021-08-02T13:33:25.636490Z",
     "shell.execute_reply": "2021-08-02T13:33:25.634829Z",
     "shell.execute_reply.started": "2021-08-02T13:33:25.193297Z"
    },
    "papermill": {
     "duration": null,
     "end_time": null,
     "exception": null,
     "start_time": null,
     "status": "pending"
    },
    "tags": []
   },
   "outputs": [],
   "source": [
    "# Plot the loss and accuracy curves for training and validation \n",
    "fig, ax = plt.subplots(2,1)\n",
    "ax[0].plot(history.history['loss'], color='b', label=\"Training loss\")\n",
    "ax[0].plot(history.history['val_loss'], color='r', label=\"validation loss\",axes =ax[0])\n",
    "legend = ax[0].legend(loc='best', shadow=True)\n",
    "\n",
    "ax[1].plot(history.history['acc'], color='b', label=\"Training accuracy\")\n",
    "ax[1].plot(history.history['val_acc'], color='r',label=\"Validation accuracy\")\n",
    "legend = ax[1].legend(loc='best', shadow=True)"
   ]
  },
  {
   "cell_type": "markdown",
   "id": "2da5800f",
   "metadata": {
    "papermill": {
     "duration": null,
     "end_time": null,
     "exception": null,
     "start_time": null,
     "status": "pending"
    },
    "tags": []
   },
   "source": [
    "## Confusion Matrix"
   ]
  },
  {
   "cell_type": "code",
   "execution_count": null,
   "id": "09e69bd6",
   "metadata": {
    "execution": {
     "iopub.execute_input": "2021-08-02T13:34:01.433306Z",
     "iopub.status.busy": "2021-08-02T13:34:01.432851Z",
     "iopub.status.idle": "2021-08-02T13:34:05.714867Z",
     "shell.execute_reply": "2021-08-02T13:34:05.713873Z",
     "shell.execute_reply.started": "2021-08-02T13:34:01.433269Z"
    },
    "papermill": {
     "duration": null,
     "end_time": null,
     "exception": null,
     "start_time": null,
     "status": "pending"
    },
    "tags": []
   },
   "outputs": [],
   "source": [
    "# Look at confusion matrix \n",
    "\n",
    "def plot_confusion_matrix(cm, classes,\n",
    "                          normalize=False,\n",
    "                          title='Confusion matrix',\n",
    "                          cmap=plt.cm.Blues):\n",
    "    \"\"\"\n",
    "    This function prints and plots the confusion matrix.\n",
    "    Normalization can be applied by setting `normalize=True`.\n",
    "    \"\"\"\n",
    "    plt.imshow(cm, interpolation='nearest', cmap=cmap)\n",
    "    plt.title(title)\n",
    "    plt.colorbar()\n",
    "    tick_marks = np.arange(len(classes))\n",
    "    plt.xticks(tick_marks, classes, rotation=45)\n",
    "    plt.yticks(tick_marks, classes)\n",
    "\n",
    "    if normalize:\n",
    "        cm = cm.astype('float') / cm.sum(axis=1)[:, np.newaxis]\n",
    "\n",
    "    thresh = cm.max() / 2.\n",
    "    for i, j in itertools.product(range(cm.shape[0]), range(cm.shape[1])):\n",
    "        plt.text(j, i, cm[i, j],\n",
    "                 horizontalalignment=\"center\",\n",
    "                 color=\"white\" if cm[i, j] > thresh else \"black\")\n",
    "\n",
    "    plt.tight_layout()\n",
    "    plt.ylabel('True label')\n",
    "    plt.xlabel('Predicted label')\n",
    "\n",
    "# Predict the values from the validation dataset\n",
    "Y_pred = model.predict(X_val)\n",
    "# Convert predictions classes to one hot vectors \n",
    "Y_pred_classes = np.argmax(Y_pred,axis = 1) \n",
    "# Convert validation observations to one hot vectors\n",
    "Y_true = np.argmax(y_val,axis = 1) \n",
    "# compute the confusion matrix\n",
    "confusion_mtx = confusion_matrix(Y_true, Y_pred_classes) \n",
    "# plot the confusion matrix\n",
    "plot_confusion_matrix(confusion_mtx, classes = range(10)) "
   ]
  },
  {
   "cell_type": "code",
   "execution_count": null,
   "id": "249a9b26",
   "metadata": {
    "execution": {
     "iopub.execute_input": "2021-08-02T13:34:08.044264Z",
     "iopub.status.busy": "2021-08-02T13:34:08.043882Z",
     "iopub.status.idle": "2021-08-02T13:34:08.798649Z",
     "shell.execute_reply": "2021-08-02T13:34:08.797633Z",
     "shell.execute_reply.started": "2021-08-02T13:34:08.044227Z"
    },
    "papermill": {
     "duration": null,
     "end_time": null,
     "exception": null,
     "start_time": null,
     "status": "pending"
    },
    "tags": []
   },
   "outputs": [],
   "source": [
    "# Display some error results \n",
    "\n",
    "# Errors are difference between predicted labels and true labels\n",
    "errors = (Y_pred_classes - Y_true != 0)\n",
    "\n",
    "Y_pred_classes_errors = Y_pred_classes[errors]\n",
    "Y_pred_errors = Y_pred[errors]\n",
    "Y_true_errors = Y_true[errors]\n",
    "X_val_errors = X_val[errors]\n",
    "\n",
    "def display_errors(errors_index,img_errors,pred_errors, obs_errors):\n",
    "    \"\"\" This function shows 6 images with their predicted and real labels\"\"\"\n",
    "    n = 0\n",
    "    nrows = 2\n",
    "    ncols = 3\n",
    "    fig, ax = plt.subplots(nrows,ncols,sharex=True,sharey=True)\n",
    "    for row in range(nrows):\n",
    "        for col in range(ncols):\n",
    "            error = errors_index[n]\n",
    "            ax[row,col].imshow((img_errors[error]).reshape((28,28)))\n",
    "            ax[row,col].set_title(\"Predicted label :{}\\nTrue label :{}\".format(pred_errors[error],obs_errors[error]))\n",
    "            n += 1\n",
    "\n",
    "# Probabilities of the wrong predicted numbers\n",
    "Y_pred_errors_prob = np.max(Y_pred_errors,axis = 1)\n",
    "\n",
    "# Predicted probabilities of the true values in the error set\n",
    "true_prob_errors = np.diagonal(np.take(Y_pred_errors, Y_true_errors, axis=1))\n",
    "\n",
    "# Difference between the probability of the predicted label and the true label\n",
    "delta_pred_true_errors = Y_pred_errors_prob - true_prob_errors\n",
    "\n",
    "# Sorted list of the delta prob errors\n",
    "sorted_dela_errors = np.argsort(delta_pred_true_errors)\n",
    "\n",
    "# Top 6 errors \n",
    "most_important_errors = sorted_dela_errors[-6:]\n",
    "\n",
    "# Show the top 6 errors\n",
    "display_errors(most_important_errors, X_val_errors, Y_pred_classes_errors, Y_true_errors)"
   ]
  },
  {
   "cell_type": "code",
   "execution_count": null,
   "id": "7e360688",
   "metadata": {
    "execution": {
     "iopub.execute_input": "2021-08-02T13:34:15.349485Z",
     "iopub.status.busy": "2021-08-02T13:34:15.349049Z",
     "iopub.status.idle": "2021-08-02T13:34:39.321107Z",
     "shell.execute_reply": "2021-08-02T13:34:39.319940Z",
     "shell.execute_reply.started": "2021-08-02T13:34:15.349448Z"
    },
    "papermill": {
     "duration": null,
     "end_time": null,
     "exception": null,
     "start_time": null,
     "status": "pending"
    },
    "tags": []
   },
   "outputs": [],
   "source": [
    "# predict results\n",
    "results = model.predict(test)\n",
    "\n",
    "# select the indix with the maximum probability\n",
    "results = np.argmax(results,axis = 1)\n",
    "\n",
    "results = pd.Series(results,name=\"Label\")"
   ]
  },
  {
   "cell_type": "code",
   "execution_count": null,
   "id": "6afb4732",
   "metadata": {
    "execution": {
     "iopub.execute_input": "2021-08-02T13:34:48.996580Z",
     "iopub.status.busy": "2021-08-02T13:34:48.996144Z",
     "iopub.status.idle": "2021-08-02T13:34:49.062585Z",
     "shell.execute_reply": "2021-08-02T13:34:49.061350Z",
     "shell.execute_reply.started": "2021-08-02T13:34:48.996543Z"
    },
    "papermill": {
     "duration": null,
     "end_time": null,
     "exception": null,
     "start_time": null,
     "status": "pending"
    },
    "tags": []
   },
   "outputs": [],
   "source": [
    "submission = pd.concat([pd.Series(range(1,28001),name = \"ImageId\"),results],axis = 1)\n",
    "\n",
    "submission.to_csv(\"cnn_mnist_Pattarapon_Buathong.csv\",index=False)"
   ]
  },
  {
   "cell_type": "code",
   "execution_count": null,
   "id": "71e916a2",
   "metadata": {
    "papermill": {
     "duration": null,
     "end_time": null,
     "exception": null,
     "start_time": null,
     "status": "pending"
    },
    "tags": []
   },
   "outputs": [],
   "source": []
  }
 ],
 "metadata": {
  "kernelspec": {
   "display_name": "Python 3",
   "language": "python",
   "name": "python3"
  },
  "language_info": {
   "codemirror_mode": {
    "name": "ipython",
    "version": 3
   },
   "file_extension": ".py",
   "mimetype": "text/x-python",
   "name": "python",
   "nbconvert_exporter": "python",
   "pygments_lexer": "ipython3",
   "version": "3.6.4"
  },
  "papermill": {
   "default_parameters": {},
   "duration": null,
   "end_time": null,
   "environment_variables": {},
   "exception": null,
   "input_path": "__notebook__.ipynb",
   "output_path": "__notebook__.ipynb",
   "parameters": {},
   "start_time": "2021-08-02T13:37:01.412411",
   "version": "2.3.3"
  }
 },
 "nbformat": 4,
 "nbformat_minor": 5
}